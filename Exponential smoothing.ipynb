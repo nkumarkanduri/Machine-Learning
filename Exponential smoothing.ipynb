{
 "cells": [
  {
   "cell_type": "markdown",
   "metadata": {},
   "source": [
    "# Project 3 - ALY-6050 - Introduction to Enterprise Analytics\n",
    "### Chetan Kulkarni\n",
    "### Northeastern University, Silicon Valley\n",
    "\n",
    "### Problem 1 - Description\n",
    "Perform exponential smoothing forecasts on the Honeywell stock prices to forecast the price for 4/16/2018. Use successive values of 0.15, 0.35, 0.55, and 0.75 for the smoothing parameter α. Calculate the MSE of each forecast, Use the MSEs of your forecasts to determine the value of α that has provided the most accurate forecast. Describe qualitatively as to why such a value of α has yielded the most accurate forecast.\n",
    "\n",
    "Steps:\n",
    "1) Import the Honeywell data set.\n",
    "2) Using the exponential smoothing technique calculate the results at different levels of alpha\n",
    "3) Support the assertion by calculating the mean square error\n",
    "\n",
    "Import Libraries"
   ]
  },
  {
   "cell_type": "code",
   "execution_count": 338,
   "metadata": {},
   "outputs": [],
   "source": [
    "import warnings\n",
    "import itertools\n",
    "import numpy as np\n",
    "import random\n",
    "import pandas as pd\n",
    "from scipy.stats import uniform\n",
    "import math\n",
    "import seaborn as sns\n",
    "from matplotlib import pyplot as plt\n",
    "import scipy \n",
    "from scipy.stats import chisquare\n",
    "from scipy.stats import norm, chi2, expon"
   ]
  },
  {
   "cell_type": "markdown",
   "metadata": {},
   "source": [
    "Read the honeywell file and write it to a dataframe"
   ]
  },
  {
   "cell_type": "code",
   "execution_count": 339,
   "metadata": {},
   "outputs": [
    {
     "data": {
      "text/html": [
       "<div>\n",
       "<style scoped>\n",
       "    .dataframe tbody tr th:only-of-type {\n",
       "        vertical-align: middle;\n",
       "    }\n",
       "\n",
       "    .dataframe tbody tr th {\n",
       "        vertical-align: top;\n",
       "    }\n",
       "\n",
       "    .dataframe thead th {\n",
       "        text-align: right;\n",
       "    }\n",
       "</style>\n",
       "<table border=\"1\" class=\"dataframe\">\n",
       "  <thead>\n",
       "    <tr style=\"text-align: right;\">\n",
       "      <th></th>\n",
       "      <th>Period</th>\n",
       "      <th>Date</th>\n",
       "      <th>Close</th>\n",
       "      <th>Volume</th>\n",
       "    </tr>\n",
       "  </thead>\n",
       "  <tbody>\n",
       "    <tr>\n",
       "      <th>119</th>\n",
       "      <td>120</td>\n",
       "      <td>2018-04-09</td>\n",
       "      <td>142.830002</td>\n",
       "      <td>1952400</td>\n",
       "    </tr>\n",
       "    <tr>\n",
       "      <th>120</th>\n",
       "      <td>121</td>\n",
       "      <td>2018-04-10</td>\n",
       "      <td>145.630005</td>\n",
       "      <td>2880400</td>\n",
       "    </tr>\n",
       "    <tr>\n",
       "      <th>121</th>\n",
       "      <td>122</td>\n",
       "      <td>2018-04-11</td>\n",
       "      <td>144.279999</td>\n",
       "      <td>1953100</td>\n",
       "    </tr>\n",
       "    <tr>\n",
       "      <th>122</th>\n",
       "      <td>123</td>\n",
       "      <td>2018-04-12</td>\n",
       "      <td>146.470001</td>\n",
       "      <td>2327600</td>\n",
       "    </tr>\n",
       "    <tr>\n",
       "      <th>123</th>\n",
       "      <td>124</td>\n",
       "      <td>2018-04-13</td>\n",
       "      <td>146.119995</td>\n",
       "      <td>1588500</td>\n",
       "    </tr>\n",
       "  </tbody>\n",
       "</table>\n",
       "</div>"
      ],
      "text/plain": [
       "     Period       Date       Close   Volume\n",
       "119     120 2018-04-09  142.830002  1952400\n",
       "120     121 2018-04-10  145.630005  2880400\n",
       "121     122 2018-04-11  144.279999  1953100\n",
       "122     123 2018-04-12  146.470001  2327600\n",
       "123     124 2018-04-13  146.119995  1588500"
      ]
     },
     "execution_count": 339,
     "metadata": {},
     "output_type": "execute_result"
    }
   ],
   "source": [
    "df = pd.read_excel(\"Honeywell.xlsx\", header = 0, skiprows = 0)\n",
    "df = pd.DataFrame(df)\n",
    "df.tail()"
   ]
  },
  {
   "cell_type": "code",
   "execution_count": 340,
   "metadata": {},
   "outputs": [
    {
     "data": {
      "text/plain": [
       "143.75"
      ]
     },
     "execution_count": 340,
     "metadata": {},
     "output_type": "execute_result"
    }
   ],
   "source": [
    "close = df['Close']\n",
    "close[0]"
   ]
  },
  {
   "attachments": {},
   "cell_type": "markdown",
   "metadata": {},
   "source": [
    "Exponential Smoothing Formula : \n",
    "\n",
    "S=αyt+(1−α)St,0<α≤1,t>0\n",
    "\n",
    "α = the smoothing constant, a value from 0 to 1. When α is close to zero, smoothing happens more slowly. Following this, the best value for α is the one that results in the smallest mean squared error (MSE). Various ways exist to do this, but a popular method is the Levenberg–Marquardt algorithm. Here, t = time period.\n",
    "\n",
    "Based on the formula, we have calcuated the results."
   ]
  },
  {
   "cell_type": "code",
   "execution_count": 341,
   "metadata": {},
   "outputs": [],
   "source": [
    "def exponential_smoothing(close, alpha):\n",
    "    \"\"\"given a close and alpha, return close of expoentially smoothed points\"\"\"\n",
    "    results = np.zeros_like(close)\n",
    "    # first value remains the same as close\n",
    "    results[0] = close[0] \n",
    "    for i in range(1, close.shape[0]):\n",
    "        results[i] = round(alpha * close[i] + (1 - alpha) * results[i - 1], 2)\n",
    "    return results"
   ]
  },
  {
   "cell_type": "code",
   "execution_count": 342,
   "metadata": {},
   "outputs": [
    {
     "data": {
      "text/plain": [
       "array([143.75, 143.7 , 143.66, 143.65, 143.91, 144.21, 144.5 , 144.72,\n",
       "       144.89, 145.09, 145.02, 144.89, 144.9 , 144.98, 144.98, 145.07,\n",
       "       145.36, 145.59, 145.57, 145.6 , 145.77, 146.  , 146.06, 146.18,\n",
       "       146.23, 146.49, 146.92, 147.23, 147.59, 148.02, 148.73, 149.41,\n",
       "       150.39, 150.99, 151.41, 151.66, 151.86, 152.07, 152.31, 152.45,\n",
       "       152.64, 153.11, 153.13, 153.3 , 153.49, 153.58, 153.75, 153.75,\n",
       "       153.71, 153.72, 153.75, 153.81, 153.74, 153.74, 153.55, 153.69,\n",
       "       153.97, 154.09, 154.38, 154.79, 155.26, 155.83, 156.14, 156.48,\n",
       "       156.67, 156.97, 157.21, 157.57, 157.93, 158.52, 159.49, 159.79,\n",
       "       159.67, 159.67, 159.67, 159.22, 157.86, 156.89, 156.04, 154.54,\n",
       "       153.54, 152.93, 152.27, 151.99, 152.2 , 152.47, 152.75, 152.95,\n",
       "       153.  , 153.32, 153.8 , 153.82, 153.41, 152.48, 151.83, 151.33,\n",
       "       151.03, 150.94, 150.98, 151.46, 151.58, 151.57, 151.4 , 151.35,\n",
       "       151.41, 151.23, 151.12, 151.16, 150.52, 149.43, 149.06, 148.35,\n",
       "       147.59, 147.13, 146.42, 146.1 , 145.91, 145.98, 145.49, 145.09,\n",
       "       145.17, 145.04, 145.25, 145.38])"
      ]
     },
     "execution_count": 342,
     "metadata": {},
     "output_type": "execute_result"
    }
   ],
   "source": [
    "exponential_smoothing(close.values, 0.15)"
   ]
  },
  {
   "cell_type": "code",
   "execution_count": 343,
   "metadata": {},
   "outputs": [],
   "source": [
    "df['smoothing@0.15'] = exponential_smoothing(close.values, 0.15)\n",
    "df['smoothing@0.35'] = exponential_smoothing(close.values, 0.35)\n",
    "df['smoothing@0.55'] = exponential_smoothing(close.values, 0.55)\n",
    "df['smoothing@0.75'] = exponential_smoothing(close.values, 0.75)"
   ]
  },
  {
   "cell_type": "code",
   "execution_count": 344,
   "metadata": {},
   "outputs": [
    {
     "data": {
      "text/html": [
       "<div>\n",
       "<style scoped>\n",
       "    .dataframe tbody tr th:only-of-type {\n",
       "        vertical-align: middle;\n",
       "    }\n",
       "\n",
       "    .dataframe tbody tr th {\n",
       "        vertical-align: top;\n",
       "    }\n",
       "\n",
       "    .dataframe thead th {\n",
       "        text-align: right;\n",
       "    }\n",
       "</style>\n",
       "<table border=\"1\" class=\"dataframe\">\n",
       "  <thead>\n",
       "    <tr style=\"text-align: right;\">\n",
       "      <th></th>\n",
       "      <th>Period</th>\n",
       "      <th>Date</th>\n",
       "      <th>Close</th>\n",
       "      <th>Volume</th>\n",
       "      <th>smoothing@0.15</th>\n",
       "      <th>smoothing@0.35</th>\n",
       "      <th>smoothing@0.55</th>\n",
       "      <th>smoothing@0.75</th>\n",
       "    </tr>\n",
       "  </thead>\n",
       "  <tbody>\n",
       "    <tr>\n",
       "      <th>0</th>\n",
       "      <td>1</td>\n",
       "      <td>2017-10-16</td>\n",
       "      <td>143.750000</td>\n",
       "      <td>2001900</td>\n",
       "      <td>143.75</td>\n",
       "      <td>143.75</td>\n",
       "      <td>143.75</td>\n",
       "      <td>143.75</td>\n",
       "    </tr>\n",
       "    <tr>\n",
       "      <th>1</th>\n",
       "      <td>2</td>\n",
       "      <td>2017-10-17</td>\n",
       "      <td>143.429993</td>\n",
       "      <td>2435600</td>\n",
       "      <td>143.70</td>\n",
       "      <td>143.64</td>\n",
       "      <td>143.57</td>\n",
       "      <td>143.51</td>\n",
       "    </tr>\n",
       "    <tr>\n",
       "      <th>2</th>\n",
       "      <td>3</td>\n",
       "      <td>2017-10-18</td>\n",
       "      <td>143.440002</td>\n",
       "      <td>1734100</td>\n",
       "      <td>143.66</td>\n",
       "      <td>143.57</td>\n",
       "      <td>143.50</td>\n",
       "      <td>143.46</td>\n",
       "    </tr>\n",
       "    <tr>\n",
       "      <th>3</th>\n",
       "      <td>4</td>\n",
       "      <td>2017-10-19</td>\n",
       "      <td>143.619995</td>\n",
       "      <td>2623100</td>\n",
       "      <td>143.65</td>\n",
       "      <td>143.59</td>\n",
       "      <td>143.57</td>\n",
       "      <td>143.58</td>\n",
       "    </tr>\n",
       "    <tr>\n",
       "      <th>4</th>\n",
       "      <td>5</td>\n",
       "      <td>2017-10-20</td>\n",
       "      <td>145.350006</td>\n",
       "      <td>3369500</td>\n",
       "      <td>143.91</td>\n",
       "      <td>144.21</td>\n",
       "      <td>144.55</td>\n",
       "      <td>144.91</td>\n",
       "    </tr>\n",
       "  </tbody>\n",
       "</table>\n",
       "</div>"
      ],
      "text/plain": [
       "   Period       Date       Close   Volume  smoothing@0.15  smoothing@0.35  \\\n",
       "0       1 2017-10-16  143.750000  2001900          143.75          143.75   \n",
       "1       2 2017-10-17  143.429993  2435600          143.70          143.64   \n",
       "2       3 2017-10-18  143.440002  1734100          143.66          143.57   \n",
       "3       4 2017-10-19  143.619995  2623100          143.65          143.59   \n",
       "4       5 2017-10-20  145.350006  3369500          143.91          144.21   \n",
       "\n",
       "   smoothing@0.55  smoothing@0.75  \n",
       "0          143.75          143.75  \n",
       "1          143.57          143.51  \n",
       "2          143.50          143.46  \n",
       "3          143.57          143.58  \n",
       "4          144.55          144.91  "
      ]
     },
     "execution_count": 344,
     "metadata": {},
     "output_type": "execute_result"
    }
   ],
   "source": [
    "df.head()"
   ]
  },
  {
   "cell_type": "markdown",
   "metadata": {},
   "source": [
    "Calculate the forecasting value for row 124 (2018-04-16) as below"
   ]
  },
  {
   "cell_type": "code",
   "execution_count": 351,
   "metadata": {},
   "outputs": [],
   "source": [
    "# Insert Row 124\n",
    "df['smoothing@0.15'][124] = round(0.15 * df.Close[123] + (1 - 0.15) * df['smoothing@0.15'][123], 2)\n",
    "\n",
    "df['smoothing@0.35'][124] = round(0.35 * df.Close[123] + (1 - 0.35) * df['smoothing@0.35'][123], 2)\n",
    "\n",
    "df['smoothing@0.55'][124] = round(0.55 * df.Close[123] + (1 - 0.55) * df['smoothing@0.55'][123], 2)\n",
    "\n",
    "df['smoothing@0.75'][124] = round(0.75 * df.Close[123] + (1 - 0.75) * df['smoothing@0.75'][123], 2)\n"
   ]
  },
  {
   "cell_type": "markdown",
   "metadata": {},
   "source": [
    "Append the above values into the dataframe row as below"
   ]
  },
  {
   "cell_type": "code",
   "execution_count": 346,
   "metadata": {},
   "outputs": [],
   "source": [
    "df = df.append(pd.Series([125,'2018-04-16 00:00:00',0,0, 145.49, 145.69, 146.0, 146.11], index=df.columns ), ignore_index=True)"
   ]
  },
  {
   "cell_type": "markdown",
   "metadata": {},
   "source": [
    "Rename the Dataframe Columms for convience"
   ]
  },
  {
   "cell_type": "code",
   "execution_count": 366,
   "metadata": {},
   "outputs": [],
   "source": [
    "df15 = df['smoothing@0.15']\n",
    "df35 = df['smoothing@0.35']\n",
    "df55 = df['smoothing@0.55']\n",
    "df75 = df['smoothing@0.75']"
   ]
  },
  {
   "cell_type": "markdown",
   "metadata": {},
   "source": [
    "### Mean Square Error calculation\n",
    "\n",
    "The measure of mean squared error requires a target of prediction or estimation along with a predictor or estimator which is said to be the function of the given data. MSE is defined as the average of squares of the \"errors\". \n",
    "\n",
    "MSE = 1/n n∑i = (Xi^−Xi)**2"
   ]
  },
  {
   "cell_type": "code",
   "execution_count": 367,
   "metadata": {},
   "outputs": [
    {
     "name": "stdout",
     "output_type": "stream",
     "text": [
      "Mean square error at alpha 0.15 =  5.714341287436218\n",
      "Mean square error at alpha 0.35 =  1.9047011156620248\n",
      "Mean square error at alpha 0.55 =  0.685191634371702\n",
      "Mean square error at alpha 0.75 =  0.18477841808137846\n"
     ]
    }
   ],
   "source": [
    "mse = [(close[i] - df15[i])**2 for i in range(0,len(close))]\n",
    "print(\"Mean square error at alpha 0.15 = \",np.mean(mse))\n",
    "\n",
    "mse1 = [(close[i] - df35[i])**2 for i in range(0,len(close))]\n",
    "print(\"Mean square error at alpha 0.35 = \",np.mean(mse1))\n",
    "\n",
    "mse2 = [(close[i] - df55[i])**2 for i in range(0,len(close))]\n",
    "print(\"Mean square error at alpha 0.55 = \",np.mean(mse2))\n",
    "\n",
    "mse3 = [(close[i] - df75[i])**2 for i in range(0,len(close))]\n",
    "print(\"Mean square error at alpha 0.75 = \",np.mean(mse3))\n"
   ]
  },
  {
   "cell_type": "code",
   "execution_count": 368,
   "metadata": {},
   "outputs": [
    {
     "data": {
      "text/html": [
       "<div>\n",
       "<style scoped>\n",
       "    .dataframe tbody tr th:only-of-type {\n",
       "        vertical-align: middle;\n",
       "    }\n",
       "\n",
       "    .dataframe tbody tr th {\n",
       "        vertical-align: top;\n",
       "    }\n",
       "\n",
       "    .dataframe thead th {\n",
       "        text-align: right;\n",
       "    }\n",
       "</style>\n",
       "<table border=\"1\" class=\"dataframe\">\n",
       "  <thead>\n",
       "    <tr style=\"text-align: right;\">\n",
       "      <th></th>\n",
       "      <th>Period</th>\n",
       "      <th>Date</th>\n",
       "      <th>Close</th>\n",
       "      <th>Volume</th>\n",
       "      <th>smoothing@0.15</th>\n",
       "      <th>smoothing@0.35</th>\n",
       "      <th>smoothing@0.55</th>\n",
       "      <th>smoothing@0.75</th>\n",
       "    </tr>\n",
       "  </thead>\n",
       "  <tbody>\n",
       "    <tr>\n",
       "      <th>120</th>\n",
       "      <td>121</td>\n",
       "      <td>2018-04-10 00:00:00</td>\n",
       "      <td>145.630005</td>\n",
       "      <td>2880400</td>\n",
       "      <td>145.17</td>\n",
       "      <td>144.42</td>\n",
       "      <td>144.60</td>\n",
       "      <td>144.98</td>\n",
       "    </tr>\n",
       "    <tr>\n",
       "      <th>121</th>\n",
       "      <td>122</td>\n",
       "      <td>2018-04-11 00:00:00</td>\n",
       "      <td>144.279999</td>\n",
       "      <td>1953100</td>\n",
       "      <td>145.04</td>\n",
       "      <td>144.37</td>\n",
       "      <td>144.42</td>\n",
       "      <td>144.45</td>\n",
       "    </tr>\n",
       "    <tr>\n",
       "      <th>122</th>\n",
       "      <td>123</td>\n",
       "      <td>2018-04-12 00:00:00</td>\n",
       "      <td>146.470001</td>\n",
       "      <td>2327600</td>\n",
       "      <td>145.25</td>\n",
       "      <td>145.11</td>\n",
       "      <td>145.55</td>\n",
       "      <td>145.97</td>\n",
       "    </tr>\n",
       "    <tr>\n",
       "      <th>123</th>\n",
       "      <td>124</td>\n",
       "      <td>2018-04-13 00:00:00</td>\n",
       "      <td>146.119995</td>\n",
       "      <td>1588500</td>\n",
       "      <td>145.38</td>\n",
       "      <td>145.46</td>\n",
       "      <td>145.86</td>\n",
       "      <td>146.08</td>\n",
       "    </tr>\n",
       "    <tr>\n",
       "      <th>124</th>\n",
       "      <td>125</td>\n",
       "      <td>2018-04-16 00:00:00</td>\n",
       "      <td>0.000000</td>\n",
       "      <td>0</td>\n",
       "      <td>145.49</td>\n",
       "      <td>145.69</td>\n",
       "      <td>146.00</td>\n",
       "      <td>146.11</td>\n",
       "    </tr>\n",
       "  </tbody>\n",
       "</table>\n",
       "</div>"
      ],
      "text/plain": [
       "     Period                 Date       Close   Volume  smoothing@0.15  \\\n",
       "120     121  2018-04-10 00:00:00  145.630005  2880400          145.17   \n",
       "121     122  2018-04-11 00:00:00  144.279999  1953100          145.04   \n",
       "122     123  2018-04-12 00:00:00  146.470001  2327600          145.25   \n",
       "123     124  2018-04-13 00:00:00  146.119995  1588500          145.38   \n",
       "124     125  2018-04-16 00:00:00    0.000000        0          145.49   \n",
       "\n",
       "     smoothing@0.35  smoothing@0.55  smoothing@0.75  \n",
       "120          144.42          144.60          144.98  \n",
       "121          144.37          144.42          144.45  \n",
       "122          145.11          145.55          145.97  \n",
       "123          145.46          145.86          146.08  \n",
       "124          145.69          146.00          146.11  "
      ]
     },
     "execution_count": 368,
     "metadata": {},
     "output_type": "execute_result"
    }
   ],
   "source": [
    "df.tail()"
   ]
  },
  {
   "cell_type": "markdown",
   "metadata": {},
   "source": [
    "### Problem 1 : Conclusion \n",
    "\n",
    "1) Mean Square error of alpha at 0.75 is the minimum at 0.1847. Hence the forecasting closing value for stock price at honeywell on 2018-04-16  is **146.11**\n",
    "\n",
    "2) The forecasted value at time i+1 is based on the value at time i, and the forecasted value at time i (and so indirectly on all the previous time values). In particular, for some α where 0 ≤ α ≤ 1."
   ]
  }
 ],
 "metadata": {
  "kernelspec": {
   "display_name": "Python 3",
   "language": "python",
   "name": "python3"
  },
  "language_info": {
   "codemirror_mode": {
    "name": "ipython",
    "version": 3
   },
   "file_extension": ".py",
   "mimetype": "text/x-python",
   "name": "python",
   "nbconvert_exporter": "python",
   "pygments_lexer": "ipython3",
   "version": "3.7.1"
  }
 },
 "nbformat": 4,
 "nbformat_minor": 2
}
