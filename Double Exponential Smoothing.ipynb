{
 "cells": [
  {
   "attachments": {},
   "cell_type": "markdown",
   "metadata": {},
   "source": [
    "### Problem 2 \n",
    "\n",
    "Steps:\n",
    "1) Import the Honeywell data set.\n",
    "2) Using the double exponential smoothing technique calculate the results at different levels of alpha\n",
    "3) Support the assertion by calculating the mean square error\n",
    "\n",
    "Import Libraries"
   ]
  },
  {
   "cell_type": "code",
   "execution_count": 23,
   "metadata": {},
   "outputs": [],
   "source": [
    "import warnings\n",
    "import itertools\n",
    "import numpy as np\n",
    "import random\n",
    "import pandas as pd\n",
    "from scipy.stats import uniform\n",
    "import math\n",
    "import seaborn as sns\n",
    "from matplotlib import pyplot as plt\n",
    "import scipy \n",
    "from scipy.stats import chisquare\n",
    "from scipy.stats import norm, chi2, expon"
   ]
  },
  {
   "cell_type": "markdown",
   "metadata": {},
   "source": [
    "Read the honeywell file and write it to a dataframe"
   ]
  },
  {
   "cell_type": "code",
   "execution_count": 24,
   "metadata": {},
   "outputs": [],
   "source": [
    "df = pd.read_excel(\"Honeywell.xlsx\")\n",
    "close = df['Close']\n",
    "close.shape[0]\n",
    "alpha = 0.75"
   ]
  },
  {
   "cell_type": "code",
   "execution_count": 25,
   "metadata": {},
   "outputs": [
    {
     "data": {
      "text/html": [
       "<div>\n",
       "<style scoped>\n",
       "    .dataframe tbody tr th:only-of-type {\n",
       "        vertical-align: middle;\n",
       "    }\n",
       "\n",
       "    .dataframe tbody tr th {\n",
       "        vertical-align: top;\n",
       "    }\n",
       "\n",
       "    .dataframe thead th {\n",
       "        text-align: right;\n",
       "    }\n",
       "</style>\n",
       "<table border=\"1\" class=\"dataframe\">\n",
       "  <thead>\n",
       "    <tr style=\"text-align: right;\">\n",
       "      <th></th>\n",
       "      <th>Period</th>\n",
       "      <th>Date</th>\n",
       "      <th>Close</th>\n",
       "      <th>Volume</th>\n",
       "    </tr>\n",
       "  </thead>\n",
       "  <tbody>\n",
       "    <tr>\n",
       "      <th>0</th>\n",
       "      <td>1</td>\n",
       "      <td>2017-10-16</td>\n",
       "      <td>143.750000</td>\n",
       "      <td>2001900</td>\n",
       "    </tr>\n",
       "    <tr>\n",
       "      <th>1</th>\n",
       "      <td>2</td>\n",
       "      <td>2017-10-17</td>\n",
       "      <td>143.429993</td>\n",
       "      <td>2435600</td>\n",
       "    </tr>\n",
       "    <tr>\n",
       "      <th>2</th>\n",
       "      <td>3</td>\n",
       "      <td>2017-10-18</td>\n",
       "      <td>143.440002</td>\n",
       "      <td>1734100</td>\n",
       "    </tr>\n",
       "    <tr>\n",
       "      <th>3</th>\n",
       "      <td>4</td>\n",
       "      <td>2017-10-19</td>\n",
       "      <td>143.619995</td>\n",
       "      <td>2623100</td>\n",
       "    </tr>\n",
       "    <tr>\n",
       "      <th>4</th>\n",
       "      <td>5</td>\n",
       "      <td>2017-10-20</td>\n",
       "      <td>145.350006</td>\n",
       "      <td>3369500</td>\n",
       "    </tr>\n",
       "  </tbody>\n",
       "</table>\n",
       "</div>"
      ],
      "text/plain": [
       "   Period       Date       Close   Volume\n",
       "0       1 2017-10-16  143.750000  2001900\n",
       "1       2 2017-10-17  143.429993  2435600\n",
       "2       3 2017-10-18  143.440002  1734100\n",
       "3       4 2017-10-19  143.619995  2623100\n",
       "4       5 2017-10-20  145.350006  3369500"
      ]
     },
     "execution_count": 25,
     "metadata": {},
     "output_type": "execute_result"
    }
   ],
   "source": [
    "df.head()"
   ]
  },
  {
   "cell_type": "markdown",
   "metadata": {},
   "source": [
    "### Double Exponential Smoothing Formula : \n",
    "\n",
    "Double exponential smoothing employs a level component and a trend component at each period. Double exponential smoothing uses two weights, (also called smoothing parameters), to update the components at each period. The double exponential smoothing equations are as follows:\n",
    "\n",
    "Level lx = ℓxTxy^x+1=αyx+(1−α)(ℓx−1+Tx−1)\n",
    "\n",
    "Trend Tx = β(ℓx−ℓx−1)+(1−β)Tx−1\n",
    "\n",
    "1step forecast = ℓx+Tx \n",
    "\n",
    "If the first observation is numbered one, then level and trend estimates at time zero must be initialized in order to proceed. The initialization method used to determine how the smoothed values are obtained in one of two ways: with optimal weights or with specified weights.\n",
    "\n",
    "Notation\n",
    "\n",
    "Lt - level at time t\n",
    "\n",
    "α  - weight for the level\n",
    "\n",
    "Tt - trend at time t\n",
    "\n",
    "γ  - weight for the trend\n",
    "\n",
    "Yt - data value at time t fitted value, or one-step-ahead forecast, at time t"
   ]
  },
  {
   "cell_type": "code",
   "execution_count": 26,
   "metadata": {},
   "outputs": [],
   "source": [
    "def double_exponential_smoothing(close, alpha, beta):\n",
    "    \"\"\"given a close and alpha, return close of expoentially smoothed points\"\"\"\n",
    "    \n",
    "    n_record = close.shape[0]\n",
    "    results = np.zeros_like(close)\n",
    "    \n",
    "    level = close[0]\n",
    "    results[0] = close[0]\n",
    "    trend = close[1] - close[0]\n",
    "    \n",
    "    for t in range(1, n_record):\n",
    "        if t >= n_record:\n",
    "            # forecasting new points\n",
    "            value = results[t]\n",
    "        else:\n",
    "            value = close[t]\n",
    "        \n",
    "        previous_level = level\n",
    "        level = alpha * value + (1 - alpha) * (level + trend)\n",
    "        trend = beta * (level - previous_level) + (1 - beta) * trend \n",
    "        results[t] = level + trend\n",
    "\n",
    "    return results"
   ]
  },
  {
   "cell_type": "code",
   "execution_count": 27,
   "metadata": {},
   "outputs": [
    {
     "data": {
      "text/plain": [
       "124"
      ]
     },
     "execution_count": 27,
     "metadata": {},
     "output_type": "execute_result"
    }
   ],
   "source": [
    "k = double_exponential_smoothing(close.values, alpha, 0.45)\n",
    "len(k)"
   ]
  },
  {
   "cell_type": "code",
   "execution_count": 28,
   "metadata": {},
   "outputs": [],
   "source": [
    "df['DEsmoothing15'] = double_exponential_smoothing(close.values, alpha, 0.15)\n",
    "df['DEsmoothing25'] = double_exponential_smoothing(close.values, alpha, 0.25)\n",
    "df['DEsmoothing45'] = double_exponential_smoothing(close.values, alpha, 0.45)\n",
    "df['DEsmoothing85'] = double_exponential_smoothing(close.values, alpha, 0.85)"
   ]
  },
  {
   "cell_type": "code",
   "execution_count": 29,
   "metadata": {},
   "outputs": [
    {
     "data": {
      "text/html": [
       "<div>\n",
       "<style scoped>\n",
       "    .dataframe tbody tr th:only-of-type {\n",
       "        vertical-align: middle;\n",
       "    }\n",
       "\n",
       "    .dataframe tbody tr th {\n",
       "        vertical-align: top;\n",
       "    }\n",
       "\n",
       "    .dataframe thead th {\n",
       "        text-align: right;\n",
       "    }\n",
       "</style>\n",
       "<table border=\"1\" class=\"dataframe\">\n",
       "  <thead>\n",
       "    <tr style=\"text-align: right;\">\n",
       "      <th></th>\n",
       "      <th>Period</th>\n",
       "      <th>Date</th>\n",
       "      <th>Close</th>\n",
       "      <th>Volume</th>\n",
       "      <th>DEsmoothing15</th>\n",
       "      <th>DEsmoothing25</th>\n",
       "      <th>DEsmoothing45</th>\n",
       "      <th>DEsmoothing85</th>\n",
       "    </tr>\n",
       "  </thead>\n",
       "  <tbody>\n",
       "    <tr>\n",
       "      <th>0</th>\n",
       "      <td>1</td>\n",
       "      <td>2017-10-16</td>\n",
       "      <td>143.750000</td>\n",
       "      <td>2001900</td>\n",
       "      <td>143.750000</td>\n",
       "      <td>143.750000</td>\n",
       "      <td>143.750000</td>\n",
       "      <td>143.750000</td>\n",
       "    </tr>\n",
       "    <tr>\n",
       "      <th>1</th>\n",
       "      <td>2</td>\n",
       "      <td>2017-10-17</td>\n",
       "      <td>143.429993</td>\n",
       "      <td>2435600</td>\n",
       "      <td>143.109986</td>\n",
       "      <td>143.109986</td>\n",
       "      <td>143.109986</td>\n",
       "      <td>143.109986</td>\n",
       "    </tr>\n",
       "    <tr>\n",
       "      <th>2</th>\n",
       "      <td>3</td>\n",
       "      <td>2017-10-18</td>\n",
       "      <td>143.440002</td>\n",
       "      <td>1734100</td>\n",
       "      <td>143.074618</td>\n",
       "      <td>143.099369</td>\n",
       "      <td>143.148871</td>\n",
       "      <td>143.247876</td>\n",
       "    </tr>\n",
       "    <tr>\n",
       "      <th>3</th>\n",
       "      <td>4</td>\n",
       "      <td>2017-10-19</td>\n",
       "      <td>143.619995</td>\n",
       "      <td>2623100</td>\n",
       "      <td>143.262125</td>\n",
       "      <td>143.329327</td>\n",
       "      <td>143.452592</td>\n",
       "      <td>143.654569</td>\n",
       "    </tr>\n",
       "    <tr>\n",
       "      <th>4</th>\n",
       "      <td>5</td>\n",
       "      <td>2017-10-20</td>\n",
       "      <td>145.350006</td>\n",
       "      <td>3369500</td>\n",
       "      <td>144.841397</td>\n",
       "      <td>145.063202</td>\n",
       "      <td>145.466407</td>\n",
       "      <td>146.134592</td>\n",
       "    </tr>\n",
       "  </tbody>\n",
       "</table>\n",
       "</div>"
      ],
      "text/plain": [
       "   Period       Date       Close   Volume  DEsmoothing15  DEsmoothing25  \\\n",
       "0       1 2017-10-16  143.750000  2001900     143.750000     143.750000   \n",
       "1       2 2017-10-17  143.429993  2435600     143.109986     143.109986   \n",
       "2       3 2017-10-18  143.440002  1734100     143.074618     143.099369   \n",
       "3       4 2017-10-19  143.619995  2623100     143.262125     143.329327   \n",
       "4       5 2017-10-20  145.350006  3369500     144.841397     145.063202   \n",
       "\n",
       "   DEsmoothing45  DEsmoothing85  \n",
       "0     143.750000     143.750000  \n",
       "1     143.109986     143.109986  \n",
       "2     143.148871     143.247876  \n",
       "3     143.452592     143.654569  \n",
       "4     145.466407     146.134592  "
      ]
     },
     "execution_count": 29,
     "metadata": {},
     "output_type": "execute_result"
    }
   ],
   "source": [
    "df.head()"
   ]
  },
  {
   "cell_type": "markdown",
   "metadata": {},
   "source": [
    "Calculate the forecasting value for row 124 (2018-04-16) as below"
   ]
  },
  {
   "cell_type": "code",
   "execution_count": 30,
   "metadata": {},
   "outputs": [],
   "source": [
    "def double_exp(beta):\n",
    "    results = np.zeros_like(close)\n",
    "    level = close[122]\n",
    "    results[122] = close[122]\n",
    "    trend = close[123] - close[122]\n",
    "\n",
    "    previous_level = level\n",
    "    level = alpha * results[122] + (1 - alpha) * (level + trend)\n",
    "    trend = beta * (level - previous_level) + (1 - beta) * trend \n",
    "    results[123] = level + trend\n",
    "\n",
    "    return (results[123])"
   ]
  },
  {
   "cell_type": "code",
   "execution_count": 31,
   "metadata": {},
   "outputs": [
    {
     "name": "stdout",
     "output_type": "stream",
     "text": [
      "146.071869175\n",
      "146.09811962499998\n",
      "146.150620525\n",
      "146.255622325\n"
     ]
    }
   ],
   "source": [
    "print(double_exp(0.15))\n",
    "print(double_exp(0.25))\n",
    "print(double_exp(0.45))\n",
    "print(double_exp(0.85))"
   ]
  },
  {
   "cell_type": "markdown",
   "metadata": {},
   "source": [
    "Append the above values into the dataframe row as below"
   ]
  },
  {
   "cell_type": "code",
   "execution_count": 36,
   "metadata": {},
   "outputs": [],
   "source": [
    "# Pass a series in append() to append a row in dataframe  \n",
    "df = df.append(pd.Series([125,'2018-04-14 00:00:00',0,0,146.07,146.09,146.15,146.25], index=df.columns ), ignore_index=True)"
   ]
  },
  {
   "cell_type": "code",
   "execution_count": 40,
   "metadata": {},
   "outputs": [],
   "source": [
    "df15 = df['DEsmoothing15']\n",
    "df25 = df['DEsmoothing25']\n",
    "df45 = df['DEsmoothing45']\n",
    "df85 = df['DEsmoothing85']\n",
    "\n",
    "close = df['Close']"
   ]
  },
  {
   "cell_type": "code",
   "execution_count": 38,
   "metadata": {},
   "outputs": [
    {
     "name": "stdout",
     "output_type": "stream",
     "text": [
      "MSE at alpha 0.75 and Beta 0.15 is 0.2807363737170363\n",
      "MSE at alpha 0.75 and Beta 0.25 is 0.382769771616424\n",
      "MSE at alpha 0.75 and Beta 0.45 is 0.6038156869133915\n",
      "MSE at alpha 0.75 and Beta 0.85 is 1.092170122750298\n",
      "The Best MSE at alpha 0.75 is 0.2807363737170363 beta value for best MSE is 0.15\n"
     ]
    }
   ],
   "source": [
    "mse = [(close[i] - df15[i])**2 for i in range(124)]\n",
    "k = np.mean(mse)\n",
    "print(\"MSE at alpha 0.75 and Beta 0.15 is %s\" % k)\n",
    "\n",
    "mse1 = [(close[i] - df25[i])**2 for i in range(124)]\n",
    "k1 = np.mean(mse1)\n",
    "print(\"MSE at alpha 0.75 and Beta 0.25 is %s\" % k1)\n",
    "\n",
    "mse2 = [(close[i] - df45[i])**2 for i in range(124)]\n",
    "k2 = np.mean(mse2)\n",
    "print(\"MSE at alpha 0.75 and Beta 0.45 is %s\" % k2)\n",
    "\n",
    "mse3 = [(close[i] - df85[i])**2 for i in range(124)]\n",
    "k3 = np.mean(mse3)\n",
    "print(\"MSE at alpha 0.75 and Beta 0.85 is %s\" % k3)\n",
    "\n",
    "print(\"The Best MSE at alpha 0.75 is\", min(k,k1,k2,k3), \"beta value for best MSE is 0.15\" )"
   ]
  },
  {
   "cell_type": "code",
   "execution_count": 39,
   "metadata": {},
   "outputs": [
    {
     "data": {
      "text/html": [
       "<div>\n",
       "<style scoped>\n",
       "    .dataframe tbody tr th:only-of-type {\n",
       "        vertical-align: middle;\n",
       "    }\n",
       "\n",
       "    .dataframe tbody tr th {\n",
       "        vertical-align: top;\n",
       "    }\n",
       "\n",
       "    .dataframe thead th {\n",
       "        text-align: right;\n",
       "    }\n",
       "</style>\n",
       "<table border=\"1\" class=\"dataframe\">\n",
       "  <thead>\n",
       "    <tr style=\"text-align: right;\">\n",
       "      <th></th>\n",
       "      <th>Period</th>\n",
       "      <th>Date</th>\n",
       "      <th>Close</th>\n",
       "      <th>Volume</th>\n",
       "      <th>DEsmoothing15</th>\n",
       "      <th>DEsmoothing25</th>\n",
       "      <th>DEsmoothing45</th>\n",
       "      <th>DEsmoothing85</th>\n",
       "    </tr>\n",
       "  </thead>\n",
       "  <tbody>\n",
       "    <tr>\n",
       "      <th>116</th>\n",
       "      <td>117</td>\n",
       "      <td>2018-04-04 00:00:00</td>\n",
       "      <td>144.839996</td>\n",
       "      <td>2769000</td>\n",
       "      <td>144.206333</td>\n",
       "      <td>144.440185</td>\n",
       "      <td>144.982767</td>\n",
       "      <td>145.619593</td>\n",
       "    </tr>\n",
       "    <tr>\n",
       "      <th>117</th>\n",
       "      <td>118</td>\n",
       "      <td>2018-04-05 00:00:00</td>\n",
       "      <td>146.399994</td>\n",
       "      <td>2239600</td>\n",
       "      <td>145.854123</td>\n",
       "      <td>146.244915</td>\n",
       "      <td>146.937956</td>\n",
       "      <td>147.634037</td>\n",
       "    </tr>\n",
       "    <tr>\n",
       "      <th>118</th>\n",
       "      <td>119</td>\n",
       "      <td>2018-04-06 00:00:00</td>\n",
       "      <td>142.740005</td>\n",
       "      <td>2867900</td>\n",
       "      <td>143.170741</td>\n",
       "      <td>143.293935</td>\n",
       "      <td>143.264953</td>\n",
       "      <td>142.272710</td>\n",
       "    </tr>\n",
       "    <tr>\n",
       "      <th>119</th>\n",
       "      <td>120</td>\n",
       "      <td>2018-04-09 00:00:00</td>\n",
       "      <td>142.830002</td>\n",
       "      <td>1952400</td>\n",
       "      <td>142.529060</td>\n",
       "      <td>142.536701</td>\n",
       "      <td>142.267404</td>\n",
       "      <td>141.355150</td>\n",
       "    </tr>\n",
       "    <tr>\n",
       "      <th>120</th>\n",
       "      <td>121</td>\n",
       "      <td>2018-04-10 00:00:00</td>\n",
       "      <td>145.630005</td>\n",
       "      <td>2880400</td>\n",
       "      <td>144.817498</td>\n",
       "      <td>145.027389</td>\n",
       "      <td>145.252897</td>\n",
       "      <td>145.950982</td>\n",
       "    </tr>\n",
       "    <tr>\n",
       "      <th>121</th>\n",
       "      <td>122</td>\n",
       "      <td>2018-04-11 00:00:00</td>\n",
       "      <td>144.279999</td>\n",
       "      <td>1953100</td>\n",
       "      <td>144.316634</td>\n",
       "      <td>144.497421</td>\n",
       "      <td>144.658413</td>\n",
       "      <td>145.022184</td>\n",
       "    </tr>\n",
       "    <tr>\n",
       "      <th>122</th>\n",
       "      <td>123</td>\n",
       "      <td>2018-04-12 00:00:00</td>\n",
       "      <td>146.470001</td>\n",
       "      <td>2327600</td>\n",
       "      <td>146.076174</td>\n",
       "      <td>146.377289</td>\n",
       "      <td>146.763704</td>\n",
       "      <td>147.355469</td>\n",
       "    </tr>\n",
       "    <tr>\n",
       "      <th>123</th>\n",
       "      <td>124</td>\n",
       "      <td>2018-04-13 00:00:00</td>\n",
       "      <td>146.119995</td>\n",
       "      <td>1588500</td>\n",
       "      <td>146.258484</td>\n",
       "      <td>146.536509</td>\n",
       "      <td>146.810271</td>\n",
       "      <td>146.888671</td>\n",
       "    </tr>\n",
       "    <tr>\n",
       "      <th>124</th>\n",
       "      <td>125</td>\n",
       "      <td>2018-04-14 00:00:00</td>\n",
       "      <td>0.000000</td>\n",
       "      <td>0</td>\n",
       "      <td>146.070000</td>\n",
       "      <td>146.090000</td>\n",
       "      <td>146.150000</td>\n",
       "      <td>146.250000</td>\n",
       "    </tr>\n",
       "    <tr>\n",
       "      <th>125</th>\n",
       "      <td>125</td>\n",
       "      <td>2018-04-14 00:00:00</td>\n",
       "      <td>0.000000</td>\n",
       "      <td>0</td>\n",
       "      <td>146.070000</td>\n",
       "      <td>146.090000</td>\n",
       "      <td>146.150000</td>\n",
       "      <td>146.250000</td>\n",
       "    </tr>\n",
       "  </tbody>\n",
       "</table>\n",
       "</div>"
      ],
      "text/plain": [
       "     Period                 Date       Close   Volume  DEsmoothing15  \\\n",
       "116     117  2018-04-04 00:00:00  144.839996  2769000     144.206333   \n",
       "117     118  2018-04-05 00:00:00  146.399994  2239600     145.854123   \n",
       "118     119  2018-04-06 00:00:00  142.740005  2867900     143.170741   \n",
       "119     120  2018-04-09 00:00:00  142.830002  1952400     142.529060   \n",
       "120     121  2018-04-10 00:00:00  145.630005  2880400     144.817498   \n",
       "121     122  2018-04-11 00:00:00  144.279999  1953100     144.316634   \n",
       "122     123  2018-04-12 00:00:00  146.470001  2327600     146.076174   \n",
       "123     124  2018-04-13 00:00:00  146.119995  1588500     146.258484   \n",
       "124     125  2018-04-14 00:00:00    0.000000        0     146.070000   \n",
       "125     125  2018-04-14 00:00:00    0.000000        0     146.070000   \n",
       "\n",
       "     DEsmoothing25  DEsmoothing45  DEsmoothing85  \n",
       "116     144.440185     144.982767     145.619593  \n",
       "117     146.244915     146.937956     147.634037  \n",
       "118     143.293935     143.264953     142.272710  \n",
       "119     142.536701     142.267404     141.355150  \n",
       "120     145.027389     145.252897     145.950982  \n",
       "121     144.497421     144.658413     145.022184  \n",
       "122     146.377289     146.763704     147.355469  \n",
       "123     146.536509     146.810271     146.888671  \n",
       "124     146.090000     146.150000     146.250000  \n",
       "125     146.090000     146.150000     146.250000  "
      ]
     },
     "execution_count": 39,
     "metadata": {},
     "output_type": "execute_result"
    }
   ],
   "source": [
    "df.tail(n=10)"
   ]
  },
  {
   "cell_type": "markdown",
   "metadata": {},
   "source": [
    "### Problem 2 : Conclusion\n",
    "\n",
    "1) The Best Mean Square Error at alpha 0.75 is 0.28 at beta value for best MSE is 0.15.Hence the forecasting closing value for stock price at honeywell on 2018-04-16 is 146.07\n"
   ]
  }
 ],
 "metadata": {
  "kernelspec": {
   "display_name": "Python 3",
   "language": "python",
   "name": "python3"
  },
  "language_info": {
   "codemirror_mode": {
    "name": "ipython",
    "version": 3
   },
   "file_extension": ".py",
   "mimetype": "text/x-python",
   "name": "python",
   "nbconvert_exporter": "python",
   "pygments_lexer": "ipython3",
   "version": "3.7.1"
  }
 },
 "nbformat": 4,
 "nbformat_minor": 2
}
